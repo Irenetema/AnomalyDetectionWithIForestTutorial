{
 "cells": [
  {
   "cell_type": "markdown",
   "metadata": {},
   "source": [
    "# Anomaly Detection in credit card transactions using unsupevised methods"
   ]
  },
  {
   "cell_type": "markdown",
   "metadata": {
    "colab_type": "text",
    "id": "5po71djfHS43"
   },
   "source": [
    "The goal of this exercise is to detect anomalous events in clients credit card transactions dataset.\n",
    "\n",
    "For this task, the dataset used contains 14216 transactions out of which 39 are frauds, accounting for 0.27% of the data. There are 28 features available for the task, representing a fraction of a much higher number of features in the original dataset. \n",
    "The features are labeled V1, V2..., V28 and are the result of apply PCA to the original higher dimensional feature space, in order to preserve the confidentiality of the clients.\n",
    "\n",
    "The label for each transaction is 0 for nominal and 1 for anomaly.\n",
    "\n",
    "\n",
    "\n",
    "The data used in this exercise is a tiny fraction of a much larger dataset from the Kaggle competition website. More details about the complete dataset can be found on Kaggle at https://www.kaggle.com/mlg-ulb/creditcardfraud"
   ]
  },
  {
   "cell_type": "code",
   "execution_count": 26,
   "metadata": {
    "colab": {},
    "colab_type": "code",
    "id": "OTHgR93aE7Ai"
   },
   "outputs": [],
   "source": [
    "#Load the needed libraries\n",
    "\n",
    "import numpy as np\n",
    "import pandas as pd\n",
    "import scipy as sp\n",
    "import matplotlib.pyplot as plt\n",
    "from sklearn.ensemble import IsolationForest\n",
    "from sklearn.neighbors import LocalOutlierFactor\n",
    "from sklearn.metrics import accuracy_score, confusion_matrix\n",
    "from sklearn.manifold import TSNE"
   ]
  },
  {
   "cell_type": "markdown",
   "metadata": {
    "colab_type": "text",
    "id": "L5PW-5UYWQxx"
   },
   "source": [
    "Import the data"
   ]
  },
  {
   "cell_type": "code",
   "execution_count": 17,
   "metadata": {
    "colab": {},
    "colab_type": "code",
    "id": "PHammWAYWIit"
   },
   "outputs": [
    {
     "data": {
      "text/html": [
       "<div>\n",
       "<style scoped>\n",
       "    .dataframe tbody tr th:only-of-type {\n",
       "        vertical-align: middle;\n",
       "    }\n",
       "\n",
       "    .dataframe tbody tr th {\n",
       "        vertical-align: top;\n",
       "    }\n",
       "\n",
       "    .dataframe thead th {\n",
       "        text-align: right;\n",
       "    }\n",
       "</style>\n",
       "<table border=\"1\" class=\"dataframe\">\n",
       "  <thead>\n",
       "    <tr style=\"text-align: right;\">\n",
       "      <th></th>\n",
       "      <th>Unnamed: 0</th>\n",
       "      <th>Time</th>\n",
       "      <th>V1</th>\n",
       "      <th>V2</th>\n",
       "      <th>V3</th>\n",
       "      <th>V4</th>\n",
       "      <th>V5</th>\n",
       "      <th>V6</th>\n",
       "      <th>V7</th>\n",
       "      <th>V8</th>\n",
       "      <th>...</th>\n",
       "      <th>V21</th>\n",
       "      <th>V22</th>\n",
       "      <th>V23</th>\n",
       "      <th>V24</th>\n",
       "      <th>V25</th>\n",
       "      <th>V26</th>\n",
       "      <th>V27</th>\n",
       "      <th>V28</th>\n",
       "      <th>Amount</th>\n",
       "      <th>Class</th>\n",
       "    </tr>\n",
       "  </thead>\n",
       "  <tbody>\n",
       "    <tr>\n",
       "      <th>0</th>\n",
       "      <td>106066</td>\n",
       "      <td>69808.0</td>\n",
       "      <td>0.136174</td>\n",
       "      <td>-1.647766</td>\n",
       "      <td>0.850033</td>\n",
       "      <td>1.576178</td>\n",
       "      <td>-1.569057</td>\n",
       "      <td>-0.106752</td>\n",
       "      <td>0.026632</td>\n",
       "      <td>-0.091738</td>\n",
       "      <td>...</td>\n",
       "      <td>0.584649</td>\n",
       "      <td>0.582371</td>\n",
       "      <td>-0.548530</td>\n",
       "      <td>0.456719</td>\n",
       "      <td>0.202315</td>\n",
       "      <td>-0.314320</td>\n",
       "      <td>-0.018220</td>\n",
       "      <td>0.138062</td>\n",
       "      <td>540.00</td>\n",
       "      <td>0</td>\n",
       "    </tr>\n",
       "    <tr>\n",
       "      <th>1</th>\n",
       "      <td>102005</td>\n",
       "      <td>68015.0</td>\n",
       "      <td>-0.911610</td>\n",
       "      <td>0.680815</td>\n",
       "      <td>1.344329</td>\n",
       "      <td>-0.068517</td>\n",
       "      <td>0.596394</td>\n",
       "      <td>-1.268838</td>\n",
       "      <td>0.769226</td>\n",
       "      <td>-0.134888</td>\n",
       "      <td>...</td>\n",
       "      <td>0.139301</td>\n",
       "      <td>0.252879</td>\n",
       "      <td>-0.228605</td>\n",
       "      <td>0.360421</td>\n",
       "      <td>0.043382</td>\n",
       "      <td>-0.588531</td>\n",
       "      <td>-0.026174</td>\n",
       "      <td>0.159864</td>\n",
       "      <td>6.89</td>\n",
       "      <td>0</td>\n",
       "    </tr>\n",
       "    <tr>\n",
       "      <th>2</th>\n",
       "      <td>278450</td>\n",
       "      <td>168231.0</td>\n",
       "      <td>-0.917299</td>\n",
       "      <td>0.860942</td>\n",
       "      <td>1.201170</td>\n",
       "      <td>-0.962314</td>\n",
       "      <td>-0.372495</td>\n",
       "      <td>-0.114847</td>\n",
       "      <td>0.001741</td>\n",
       "      <td>0.699885</td>\n",
       "      <td>...</td>\n",
       "      <td>-0.138630</td>\n",
       "      <td>-0.493530</td>\n",
       "      <td>0.001530</td>\n",
       "      <td>-0.370406</td>\n",
       "      <td>-0.392434</td>\n",
       "      <td>0.304997</td>\n",
       "      <td>0.177416</td>\n",
       "      <td>0.115137</td>\n",
       "      <td>19.99</td>\n",
       "      <td>0</td>\n",
       "    </tr>\n",
       "    <tr>\n",
       "      <th>3</th>\n",
       "      <td>120218</td>\n",
       "      <td>75751.0</td>\n",
       "      <td>1.252596</td>\n",
       "      <td>0.021359</td>\n",
       "      <td>0.044063</td>\n",
       "      <td>0.325909</td>\n",
       "      <td>0.011174</td>\n",
       "      <td>-0.053598</td>\n",
       "      <td>-0.097035</td>\n",
       "      <td>0.013237</td>\n",
       "      <td>...</td>\n",
       "      <td>-0.096153</td>\n",
       "      <td>-0.266459</td>\n",
       "      <td>-0.071237</td>\n",
       "      <td>-0.749998</td>\n",
       "      <td>0.389529</td>\n",
       "      <td>0.494047</td>\n",
       "      <td>-0.029793</td>\n",
       "      <td>0.002433</td>\n",
       "      <td>17.80</td>\n",
       "      <td>0</td>\n",
       "    </tr>\n",
       "    <tr>\n",
       "      <th>4</th>\n",
       "      <td>258527</td>\n",
       "      <td>158694.0</td>\n",
       "      <td>-1.109483</td>\n",
       "      <td>1.061341</td>\n",
       "      <td>1.484072</td>\n",
       "      <td>0.923891</td>\n",
       "      <td>-0.137718</td>\n",
       "      <td>0.816640</td>\n",
       "      <td>0.014252</td>\n",
       "      <td>0.938303</td>\n",
       "      <td>...</td>\n",
       "      <td>-0.479951</td>\n",
       "      <td>-1.369632</td>\n",
       "      <td>-0.020618</td>\n",
       "      <td>0.578319</td>\n",
       "      <td>0.329709</td>\n",
       "      <td>-0.825568</td>\n",
       "      <td>0.209439</td>\n",
       "      <td>0.068794</td>\n",
       "      <td>24.48</td>\n",
       "      <td>0</td>\n",
       "    </tr>\n",
       "  </tbody>\n",
       "</table>\n",
       "<p>5 rows × 32 columns</p>\n",
       "</div>"
      ],
      "text/plain": [
       "   Unnamed: 0      Time        V1        V2        V3        V4        V5  \\\n",
       "0      106066   69808.0  0.136174 -1.647766  0.850033  1.576178 -1.569057   \n",
       "1      102005   68015.0 -0.911610  0.680815  1.344329 -0.068517  0.596394   \n",
       "2      278450  168231.0 -0.917299  0.860942  1.201170 -0.962314 -0.372495   \n",
       "3      120218   75751.0  1.252596  0.021359  0.044063  0.325909  0.011174   \n",
       "4      258527  158694.0 -1.109483  1.061341  1.484072  0.923891 -0.137718   \n",
       "\n",
       "         V6        V7        V8  ...       V21       V22       V23       V24  \\\n",
       "0 -0.106752  0.026632 -0.091738  ...  0.584649  0.582371 -0.548530  0.456719   \n",
       "1 -1.268838  0.769226 -0.134888  ...  0.139301  0.252879 -0.228605  0.360421   \n",
       "2 -0.114847  0.001741  0.699885  ... -0.138630 -0.493530  0.001530 -0.370406   \n",
       "3 -0.053598 -0.097035  0.013237  ... -0.096153 -0.266459 -0.071237 -0.749998   \n",
       "4  0.816640  0.014252  0.938303  ... -0.479951 -1.369632 -0.020618  0.578319   \n",
       "\n",
       "        V25       V26       V27       V28  Amount  Class  \n",
       "0  0.202315 -0.314320 -0.018220  0.138062  540.00      0  \n",
       "1  0.043382 -0.588531 -0.026174  0.159864    6.89      0  \n",
       "2 -0.392434  0.304997  0.177416  0.115137   19.99      0  \n",
       "3  0.389529  0.494047 -0.029793  0.002433   17.80      0  \n",
       "4  0.329709 -0.825568  0.209439  0.068794   24.48      0  \n",
       "\n",
       "[5 rows x 32 columns]"
      ]
     },
     "execution_count": 17,
     "metadata": {},
     "output_type": "execute_result"
    }
   ],
   "source": [
    "data = pd.read_csv(\"fraud_detection_data1.csv\")\n",
    "data.head()"
   ]
  },
  {
   "cell_type": "code",
   "execution_count": 18,
   "metadata": {},
   "outputs": [
    {
     "name": "stdout",
     "output_type": "stream",
     "text": [
      "14216\n",
      "39\n"
     ]
    }
   ],
   "source": [
    "print(len(data.loc[data['Class']==0]))\n",
    "print(len(data.loc[data['Class']==1]))"
   ]
  },
  {
   "cell_type": "markdown",
   "metadata": {},
   "source": [
    "Visualize the class distribution of the data"
   ]
  },
  {
   "cell_type": "code",
   "execution_count": 19,
   "metadata": {},
   "outputs": [
    {
     "data": {
      "image/png": "[encoded data removed]",
      "text/plain": [
       "<Figure size 432x288 with 1 Axes>"
      ]
     },
     "metadata": {
      "needs_background": "light"
     },
     "output_type": "display_data"
    }
   ],
   "source": [
    "_, counts = np.unique(np.array(data['Class']), return_counts=True)\n",
    "labels = [\"Nominal\", \"Fraud\"]\n",
    "plt.bar(labels, counts, align='center')\n",
    "plt.gca().set_xticks(labels)\n",
    "plt.show()"
   ]
  },
  {
   "cell_type": "markdown",
   "metadata": {},
   "source": [
    "As we can see the dataset is very imbalanced and doesn't have enough negative example to train a regular classifier to separate nominal and anomalies. \n",
    "Unsupervised learning approaches have shown to perform better in this kind of situation."
   ]
  },
  {
   "cell_type": "code",
   "execution_count": 23,
   "metadata": {},
   "outputs": [],
   "source": [
    "# Split the label from the features\n",
    "true_label = data['Class']\n",
    "data.drop('Class',1, inplace=True)"
   ]
  },
  {
   "cell_type": "markdown",
   "metadata": {},
   "source": [
    "Exploration of both normal and fraud data"
   ]
  },
  {
   "cell_type": "code",
   "execution_count": 20,
   "metadata": {},
   "outputs": [
    {
     "name": "stdout",
     "output_type": "stream",
     "text": [
      "Normal transactions: \n",
      "\n",
      "count    14216.000000\n",
      "mean        91.260075\n",
      "std        251.280760\n",
      "min          0.000000\n",
      "25%          5.990000\n",
      "50%         22.215000\n",
      "75%         76.052500\n",
      "max       7583.320000\n",
      "Name: Amount, dtype: float64\n",
      "\n",
      " ----------------------------------------------------------- \n",
      "\n",
      "Fraud transactions: \n",
      "\n",
      "count     39.000000\n",
      "mean      37.666154\n",
      "std       78.996187\n",
      "min        0.000000\n",
      "25%        1.000000\n",
      "50%        7.520000\n",
      "75%       42.740000\n",
      "max      444.170000\n",
      "Name: Amount, dtype: float64\n",
      "\n",
      "\n"
     ]
    },
    {
     "data": {
      "image/png": "[encoded data removed]",
      "text/plain": [
       "<Figure size 432x288 with 1 Axes>"
      ]
     },
     "metadata": {
      "needs_background": "light"
     },
     "output_type": "display_data"
    },
    {
     "data": {
      "image/png": "[encoded data removed]",
      "text/plain": [
       "<Figure size 432x288 with 1 Axes>"
      ]
     },
     "metadata": {
      "needs_background": "light"
     },
     "output_type": "display_data"
    }
   ],
   "source": [
    "nominal_samples = data.loc[data['Class']==0]\n",
    "fraud_samples = data.loc[data['Class']==1]\n",
    "\n",
    "print(\"Normal transactions: \\n\")\n",
    "print(nominal_samples['Amount'].describe())\n",
    "print(\"\\n ----------------------------------------------------------- \\n\")\n",
    "print(\"Fraud transactions: \\n\")\n",
    "print(fraud_samples['Amount'].describe())\n",
    "print(\"\\n\")\n",
    "\n",
    "plt.hist(nominal_samples['Amount'], bins=150)\n",
    "plt.title(\"Distribution of transaction amount for normal samples\")\n",
    "plt.show()\n",
    "\n",
    "plt.hist(fraud_samples['Amount'], bins=150)\n",
    "plt.title(\"Distribution of transaction amount for fraud samples\")\n",
    "plt.show()"
   ]
  },
  {
   "cell_type": "code",
   "execution_count": 21,
   "metadata": {},
   "outputs": [],
   "source": [
    "# Function for printing the performance of the model\n",
    "def print_performance(y_true, y_pred, method=\"IF\"):\n",
    "    print(\"Nomber of outlier detected by {}: {}\".format(method, len(y_pred[y_pred==1])))\n",
    "    TN, FP, FN, TP = confusion_matrix(y_true, y_pred).ravel()\n",
    "    precision = TP/(TP+FP)\n",
    "    recall = TP/(TP+FN)\n",
    "    print(\"{} accuracy score: {}\".format(method, accuracy_score(y_true, y_pred)))\n",
    "    print(\"{} precision: {}\".format(method, precision))\n",
    "    print(\"{} recall: {}\".format(method, recall))\n",
    "    print(\"TN: {}, FP: {}, FN: {}, TP: {}\".format(TN, FP, FN, TP))"
   ]
  },
  {
   "cell_type": "markdown",
   "metadata": {
    "colab_type": "text",
    "id": "eCHeLt0QGwbz"
   },
   "source": [
    "## Isolation Forest Method"
   ]
  },
  {
   "cell_type": "code",
   "execution_count": 24,
   "metadata": {
    "colab": {},
    "colab_type": "code",
    "id": "E2CsrastGvpW"
   },
   "outputs": [
    {
     "name": "stdout",
     "output_type": "stream",
     "text": [
      "Nomber of outlier detected by Isolation Forest: 549\n",
      "Isolation Forest accuracy score: 0.9628200631357419\n",
      "Isolation Forest precision: 0.052823315118397086\n",
      "Isolation Forest recall: 0.7435897435897436\n",
      "TN: 13696, FP: 520, FN: 10, TP: 29\n"
     ]
    }
   ],
   "source": [
    "# Fit the model to the data\n",
    "IF_model = IsolationForest(n_estimators=100, random_state=0).fit(data)\n",
    "IF_pred = IF_model.predict(data)\n",
    "\n",
    "# Isolation forest predicts 1 for inlier and -1 for outlier and the true label is 0 or inlier and 1 for outlier\n",
    "IF_pred = np.where(IF_pred==1, 0, 1)\n",
    "print_performance(true_label, IF_pred, method=\"Isolation Forest\")"
   ]
  },
  {
   "cell_type": "markdown",
   "metadata": {
    "colab_type": "text",
    "id": "wwwW5A5jG9Hf"
   },
   "source": [
    "## Local Outlier Factor"
   ]
  },
  {
   "cell_type": "code",
   "execution_count": 25,
   "metadata": {},
   "outputs": [
    {
     "name": "stdout",
     "output_type": "stream",
     "text": [
      "Nomber of outlier detected by LOF: 1133\n",
      "LOF accuracy score: 0.9180638372500877\n",
      "LOF precision: 0.00176522506619594\n",
      "LOF recall: 0.05128205128205128\n",
      "TN: 13085, FP: 1131, FN: 37, TP: 2\n"
     ]
    }
   ],
   "source": [
    "# Fit the model to the data\n",
    "LOF_pred = LocalOutlierFactor(n_neighbors=10).fit_predict(data)\n",
    "\n",
    "# Isolation forest predicts 1 for inlier and -1 for outlier and the true label is 0 or inlier and 1 for outlier\n",
    "LOF_pred = np.where(LOF_pred==1, 0, 1)\n",
    "print_performance(true_label, LOF_pred, method=\"LOF\")"
   ]
  },
  {
   "cell_type": "markdown",
   "metadata": {},
   "source": [
    "# Exercise"
   ]
  },
  {
   "cell_type": "markdown",
   "metadata": {},
   "source": [
    "With the \"fraud_detection_data2.csv\" dataset:\n",
    "* 1) Implement IForest and Local Outliers Factor\n",
    "* 2) Use K-Nearest Neighbors classifier to detect anomalies in the data. https://scikit-learn.org/stable/modules/generated/sklearn.neighbors.KNeighborsClassifier.html\n",
    "\n",
    "Compare the performance (accuracy, precision and recall) obtained using the supervised method (KNN) with the performances of Isolation Forest and Local Outliers Factor.\n",
    "\n",
    "You will have to split the data into training and testing set for KNN. The script below implememts a simple way of splitting the data."
   ]
  },
  {
   "cell_type": "code",
   "execution_count": 32,
   "metadata": {},
   "outputs": [],
   "source": [
    "# Split the data into training and testing set\n",
    "from sklearn.model_selection import train_test_split\n",
    "\n",
    "X_train, X_test, y_train, y_test = train_test_split(data, true_label, test_size=0.3, random_state=0)"
   ]
  },
  {
   "cell_type": "code",
   "execution_count": null,
   "metadata": {},
   "outputs": [],
   "source": []
  }
 ],
 "metadata": {
  "colab": {
   "name": "FraudDetection.ipynb",
   "provenance": []
  },
  "kernelspec": {
   "display_name": "Python 3",
   "language": "python",
   "name": "python3"
  },
  "language_info": {
   "codemirror_mode": {
    "name": "ipython",
    "version": 3
   },
   "file_extension": ".py",
   "mimetype": "text/x-python",
   "name": "python",
   "nbconvert_exporter": "python",
   "pygments_lexer": "ipython3",
   "version": "3.7.6"
  }
 },
 "nbformat": 4,
 "nbformat_minor": 1
}
